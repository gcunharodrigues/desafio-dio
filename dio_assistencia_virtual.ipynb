{
  "nbformat": 4,
  "nbformat_minor": 0,
  "metadata": {
    "colab": {
      "provenance": [],
      "authorship_tag": "ABX9TyNfvcPiluOHr/PoJiZ92g5O",
      "include_colab_link": true
    },
    "kernelspec": {
      "name": "python3",
      "display_name": "Python 3"
    },
    "language_info": {
      "name": "python"
    }
  },
  "cells": [
    {
      "cell_type": "markdown",
      "metadata": {
        "id": "view-in-github",
        "colab_type": "text"
      },
      "source": [
        "<a href=\"https://colab.research.google.com/github/gcunharodrigues/desafio-dio/blob/main/dio_assistencia_virtual.ipynb\" target=\"_parent\"><img src=\"https://colab.research.google.com/assets/colab-badge.svg\" alt=\"Open In Colab\"/></a>"
      ]
    },
    {
      "cell_type": "markdown",
      "source": [
        "Módulo text to speech"
      ],
      "metadata": {
        "id": "t1om6nMzi3kH"
      }
    },
    {
      "cell_type": "code",
      "source": [
        "!pip install gtts"
      ],
      "metadata": {
        "colab": {
          "base_uri": "https://localhost:8080/"
        },
        "id": "6n_Jdh5mjIej",
        "outputId": "be356346-e2b6-4a18-a9ff-022eb9964093"
      },
      "execution_count": null,
      "outputs": [
        {
          "output_type": "stream",
          "name": "stdout",
          "text": [
            "Collecting gtts\n",
            "  Downloading gTTS-2.5.4-py3-none-any.whl.metadata (4.1 kB)\n",
            "Requirement already satisfied: requests<3,>=2.27 in /usr/local/lib/python3.10/dist-packages (from gtts) (2.32.3)\n",
            "Requirement already satisfied: click<8.2,>=7.1 in /usr/local/lib/python3.10/dist-packages (from gtts) (8.1.7)\n",
            "Requirement already satisfied: charset-normalizer<4,>=2 in /usr/local/lib/python3.10/dist-packages (from requests<3,>=2.27->gtts) (3.4.0)\n",
            "Requirement already satisfied: idna<4,>=2.5 in /usr/local/lib/python3.10/dist-packages (from requests<3,>=2.27->gtts) (3.10)\n",
            "Requirement already satisfied: urllib3<3,>=1.21.1 in /usr/local/lib/python3.10/dist-packages (from requests<3,>=2.27->gtts) (2.2.3)\n",
            "Requirement already satisfied: certifi>=2017.4.17 in /usr/local/lib/python3.10/dist-packages (from requests<3,>=2.27->gtts) (2024.12.14)\n",
            "Downloading gTTS-2.5.4-py3-none-any.whl (29 kB)\n",
            "Installing collected packages: gtts\n",
            "Successfully installed gtts-2.5.4\n"
          ]
        }
      ]
    },
    {
      "cell_type": "code",
      "execution_count": 2,
      "metadata": {
        "id": "KLomfj63izIj"
      },
      "outputs": [],
      "source": [
        "from gtts import gTTS\n",
        "\n",
        "text_to_say = \"Como você está?\"\n",
        "\n",
        "language = \"pt\"\n",
        "\n",
        "gtts_object = gTTS(text = text_to_say,\n",
        "                  lang = language,\n",
        "                  slow = False)\n",
        "\n",
        "gtts_object.save(\"/content/gtts.wav\")"
      ]
    },
    {
      "cell_type": "code",
      "source": [
        "from IPython.display import Audio\n",
        "\n",
        "Audio(\"/content/gtts.wav\")"
      ],
      "metadata": {
        "colab": {
          "base_uri": "https://localhost:8080/",
          "height": 75
        },
        "id": "eL-NoQfKjRxH",
        "outputId": "774a6ca5-7b8d-42af-85ba-43ba15f56b76"
      },
      "execution_count": 3,
      "outputs": [
        {
          "output_type": "execute_result",
          "data": {
            "text/plain": [
              "<IPython.lib.display.Audio object>"
            ],
            "text/html": [
              "\n",
              "                <audio  controls=\"controls\" >\n",
              "                    <source src=\"data:audio/x-wav;base64,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\" type=\"audio/x-wav\" />\n",
              "                    Your browser does not support the audio element.\n",
              "                </audio>\n",
              "              "
            ]
          },
          "metadata": {},
          "execution_count": 3
        }
      ]
    },
    {
      "cell_type": "markdown",
      "source": [
        "Módulo speech to text"
      ],
      "metadata": {
        "id": "67BgtQAUjUcA"
      }
    },
    {
      "cell_type": "code",
      "source": [
        "!apt install libasound2-dev portaudio19-dev libportaudio2 libportaudiocpp0 ffmpeg"
      ],
      "metadata": {
        "colab": {
          "base_uri": "https://localhost:8080/"
        },
        "id": "rhAGrFC8lU4X",
        "outputId": "490f6cb2-be1e-4780-920d-06b38e941c37"
      },
      "execution_count": null,
      "outputs": [
        {
          "output_type": "stream",
          "name": "stdout",
          "text": [
            "Reading package lists... Done\n",
            "Building dependency tree... Done\n",
            "Reading state information... Done\n",
            "libasound2-dev is already the newest version (1.2.6.1-1ubuntu1).\n",
            "ffmpeg is already the newest version (7:4.4.2-0ubuntu0.22.04.1).\n",
            "Suggested packages:\n",
            "  portaudio19-doc\n",
            "The following NEW packages will be installed:\n",
            "  libportaudio2 libportaudiocpp0 portaudio19-dev\n",
            "0 upgraded, 3 newly installed, 0 to remove and 49 not upgraded.\n",
            "Need to get 188 kB of archives.\n",
            "After this operation, 927 kB of additional disk space will be used.\n",
            "Get:1 http://archive.ubuntu.com/ubuntu jammy/universe amd64 libportaudio2 amd64 19.6.0-1.1 [65.3 kB]\n",
            "Get:2 http://archive.ubuntu.com/ubuntu jammy/universe amd64 libportaudiocpp0 amd64 19.6.0-1.1 [16.1 kB]\n",
            "Get:3 http://archive.ubuntu.com/ubuntu jammy/universe amd64 portaudio19-dev amd64 19.6.0-1.1 [106 kB]\n",
            "Fetched 188 kB in 1s (193 kB/s)\n",
            "Selecting previously unselected package libportaudio2:amd64.\n",
            "(Reading database ... 123632 files and directories currently installed.)\n",
            "Preparing to unpack .../libportaudio2_19.6.0-1.1_amd64.deb ...\n",
            "Unpacking libportaudio2:amd64 (19.6.0-1.1) ...\n",
            "Selecting previously unselected package libportaudiocpp0:amd64.\n",
            "Preparing to unpack .../libportaudiocpp0_19.6.0-1.1_amd64.deb ...\n",
            "Unpacking libportaudiocpp0:amd64 (19.6.0-1.1) ...\n",
            "Selecting previously unselected package portaudio19-dev:amd64.\n",
            "Preparing to unpack .../portaudio19-dev_19.6.0-1.1_amd64.deb ...\n",
            "Unpacking portaudio19-dev:amd64 (19.6.0-1.1) ...\n",
            "Setting up libportaudio2:amd64 (19.6.0-1.1) ...\n",
            "Setting up libportaudiocpp0:amd64 (19.6.0-1.1) ...\n",
            "Setting up portaudio19-dev:amd64 (19.6.0-1.1) ...\n",
            "Processing triggers for libc-bin (2.35-0ubuntu3.4) ...\n",
            "/sbin/ldconfig.real: /usr/local/lib/libtbbbind.so.3 is not a symbolic link\n",
            "\n",
            "/sbin/ldconfig.real: /usr/local/lib/libtcm.so.1 is not a symbolic link\n",
            "\n",
            "/sbin/ldconfig.real: /usr/local/lib/libtbbbind_2_5.so.3 is not a symbolic link\n",
            "\n",
            "/sbin/ldconfig.real: /usr/local/lib/libur_adapter_level_zero.so.0 is not a symbolic link\n",
            "\n",
            "/sbin/ldconfig.real: /usr/local/lib/libhwloc.so.15 is not a symbolic link\n",
            "\n",
            "/sbin/ldconfig.real: /usr/local/lib/libtbbmalloc.so.2 is not a symbolic link\n",
            "\n",
            "/sbin/ldconfig.real: /usr/local/lib/libtbbbind_2_0.so.3 is not a symbolic link\n",
            "\n",
            "/sbin/ldconfig.real: /usr/local/lib/libur_adapter_opencl.so.0 is not a symbolic link\n",
            "\n",
            "/sbin/ldconfig.real: /usr/local/lib/libur_loader.so.0 is not a symbolic link\n",
            "\n",
            "/sbin/ldconfig.real: /usr/local/lib/libtcm_debug.so.1 is not a symbolic link\n",
            "\n",
            "/sbin/ldconfig.real: /usr/local/lib/libtbbmalloc_proxy.so.2 is not a symbolic link\n",
            "\n",
            "/sbin/ldconfig.real: /usr/local/lib/libumf.so.0 is not a symbolic link\n",
            "\n",
            "/sbin/ldconfig.real: /usr/local/lib/libtbb.so.12 is not a symbolic link\n",
            "\n"
          ]
        }
      ]
    },
    {
      "cell_type": "code",
      "source": [
        "!pip install SpeechRecognition\n",
        "!pip install pyaudio"
      ],
      "metadata": {
        "colab": {
          "base_uri": "https://localhost:8080/"
        },
        "id": "xvrDoIWskjuj",
        "outputId": "ac761c46-9668-4a1a-8f42-3127f27e2136"
      },
      "execution_count": null,
      "outputs": [
        {
          "output_type": "stream",
          "name": "stdout",
          "text": [
            "Requirement already satisfied: SpeechRecognition in /usr/local/lib/python3.10/dist-packages (3.14.0)\n",
            "Requirement already satisfied: typing-extensions in /usr/local/lib/python3.10/dist-packages (from SpeechRecognition) (4.12.2)\n",
            "Collecting pyaudio\n",
            "  Using cached PyAudio-0.2.14.tar.gz (47 kB)\n",
            "  Installing build dependencies ... \u001b[?25l\u001b[?25hdone\n",
            "  Getting requirements to build wheel ... \u001b[?25l\u001b[?25hdone\n",
            "  Preparing metadata (pyproject.toml) ... \u001b[?25l\u001b[?25hdone\n",
            "Building wheels for collected packages: pyaudio\n",
            "  Building wheel for pyaudio (pyproject.toml) ... \u001b[?25l\u001b[?25hdone\n",
            "  Created wheel for pyaudio: filename=PyAudio-0.2.14-cp310-cp310-linux_x86_64.whl size=63907 sha256=94f9eeed30c5219020ce78875456f1c05ca8691331bd3a61a8705332e422a17a\n",
            "  Stored in directory: /root/.cache/pip/wheels/d6/21/f4/0b51d41ba79e51b16295cbb096ec49f334792814d545b508c5\n",
            "Successfully built pyaudio\n",
            "Installing collected packages: pyaudio\n",
            "Successfully installed pyaudio-0.2.14\n"
          ]
        }
      ]
    },
    {
      "cell_type": "code",
      "source": [
        "import speech_recognition as sr\n",
        "import pyaudio"
      ],
      "metadata": {
        "id": "DskRo5S2lCaf"
      },
      "execution_count": 30,
      "outputs": []
    },
    {
      "cell_type": "code",
      "source": [
        "#get mic audio\n",
        "def get_audio(source):\n",
        "    r = sr.Recognizer()\n",
        "    file = sr.AudioFile(source)\n",
        "    with file as f:\n",
        "        audio = r.record(f)\n",
        "    said = r.recognize_google(audio, language=\"pt-BR\")\n",
        "    return said.lower()"
      ],
      "metadata": {
        "id": "idJuCXdVkeid"
      },
      "execution_count": 37,
      "outputs": []
    },
    {
      "cell_type": "code",
      "source": [
        "from IPython.display import HTML, Audio, Javascript\n",
        "from google.colab import output\n",
        "from google.colab.output import eval_js\n",
        "from base64 import b64decode\n",
        "import io\n",
        "import time\n",
        "\n",
        "RECORD = \"\"\"\n",
        "const sleep  = time => new Promise(resolve => setTimeout(resolve, time))\n",
        "const b2text = blob => new Promise(resolve => {\n",
        "  const reader = new FileReader()\n",
        "  reader.onloadend = e => resolve(e.srcElement.result)\n",
        "  reader.readAsDataURL(blob)\n",
        "})\n",
        "\n",
        "// Function to record audio\n",
        "async function recordAudio(duration) {\n",
        "  return new Promise(async resolve => {\n",
        "    const stream = await navigator.mediaDevices.getUserMedia({ audio: true });\n",
        "    const recorder = new MediaRecorder(stream);\n",
        "    const chunks = [];\n",
        "\n",
        "    recorder.ondataavailable = e => chunks.push(e.data);\n",
        "    recorder.start();\n",
        "\n",
        "    await sleep(duration);\n",
        "\n",
        "    recorder.onstop = async ()=>{\n",
        "      const blob = new Blob(chunks);\n",
        "      const audioDataURL = await b2text(blob);\n",
        "      resolve(audioDataURL);\n",
        "    }\n",
        "\n",
        "    recorder.stop();\n",
        "  });\n",
        "}\n",
        "\n",
        "\"\"\"\n",
        "\n",
        "def record_audio(sec=3):\n",
        "  display(Javascript(RECORD))\n",
        "  s = output.eval_js('recordAudio(%d)' % (sec*1000))\n",
        "  b = b64decode(s.split(',')[1])\n",
        "  with open('audio.wav','wb') as f:\n",
        "    f.write(b)\n",
        "  return 'audio.wav'"
      ],
      "metadata": {
        "id": "QmzEzqFUntV9"
      },
      "execution_count": 24,
      "outputs": []
    },
    {
      "cell_type": "code",
      "source": [
        "record_audio()"
      ],
      "metadata": {
        "colab": {
          "base_uri": "https://localhost:8080/",
          "height": 35
        },
        "id": "JUg202QUsG0y",
        "outputId": "d4896c0e-cd49-4177-a235-034483d4c93d"
      },
      "execution_count": 25,
      "outputs": [
        {
          "output_type": "display_data",
          "data": {
            "text/plain": [
              "<IPython.core.display.Javascript object>"
            ],
            "application/javascript": [
              "\n",
              "const sleep  = time => new Promise(resolve => setTimeout(resolve, time))\n",
              "const b2text = blob => new Promise(resolve => {\n",
              "  const reader = new FileReader()\n",
              "  reader.onloadend = e => resolve(e.srcElement.result)\n",
              "  reader.readAsDataURL(blob)\n",
              "})\n",
              "\n",
              "// Function to record audio\n",
              "async function recordAudio(duration) {\n",
              "  return new Promise(async resolve => {\n",
              "    const stream = await navigator.mediaDevices.getUserMedia({ audio: true });\n",
              "    const recorder = new MediaRecorder(stream);\n",
              "    const chunks = [];\n",
              "\n",
              "    recorder.ondataavailable = e => chunks.push(e.data);\n",
              "    recorder.start();\n",
              "\n",
              "    await sleep(duration);\n",
              "\n",
              "    recorder.onstop = async ()=>{\n",
              "      const blob = new Blob(chunks);\n",
              "      const audioDataURL = await b2text(blob);\n",
              "      resolve(audioDataURL);\n",
              "    }\n",
              "\n",
              "    recorder.stop();\n",
              "  });\n",
              "}\n",
              "\n"
            ]
          },
          "metadata": {}
        },
        {
          "output_type": "execute_result",
          "data": {
            "text/plain": [
              "'audio.wav'"
            ],
            "application/vnd.google.colaboratory.intrinsic+json": {
              "type": "string"
            }
          },
          "metadata": {},
          "execution_count": 25
        }
      ]
    },
    {
      "cell_type": "code",
      "source": [
        "Audio('/content/audio.wav')"
      ],
      "metadata": {
        "colab": {
          "base_uri": "https://localhost:8080/",
          "height": 75
        },
        "id": "3bXjEYBLtoYf",
        "outputId": "ccb6eede-670e-4e7d-da37-b0f6fb671cd6"
      },
      "execution_count": 42,
      "outputs": [
        {
          "output_type": "execute_result",
          "data": {
            "text/plain": [
              "<IPython.lib.display.Audio object>"
            ],
            "text/html": [
              "\n",
              "                <audio  controls=\"controls\" >\n",
              "                    <source src=\"data:audio/x-wav;base64,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\" type=\"audio/x-wav\" />\n",
              "                    Your browser does not support the audio element.\n",
              "                </audio>\n",
              "              "
            ]
          },
          "metadata": {},
          "execution_count": 42
        }
      ]
    },
    {
      "cell_type": "code",
      "source": [
        "!ffmpeg -i audio.wav -ac 1 -ar 16000 output.wav"
      ],
      "metadata": {
        "colab": {
          "base_uri": "https://localhost:8080/"
        },
        "id": "Q1J1ucl8wGnq",
        "outputId": "0b7bd0de-2107-4165-bac5-317413ca6722"
      },
      "execution_count": 44,
      "outputs": [
        {
          "output_type": "stream",
          "name": "stdout",
          "text": [
            "ffmpeg version 4.4.2-0ubuntu0.22.04.1 Copyright (c) 2000-2021 the FFmpeg developers\n",
            "  built with gcc 11 (Ubuntu 11.2.0-19ubuntu1)\n",
            "  configuration: --prefix=/usr --extra-version=0ubuntu0.22.04.1 --toolchain=hardened --libdir=/usr/lib/x86_64-linux-gnu --incdir=/usr/include/x86_64-linux-gnu --arch=amd64 --enable-gpl --disable-stripping --enable-gnutls --enable-ladspa --enable-libaom --enable-libass --enable-libbluray --enable-libbs2b --enable-libcaca --enable-libcdio --enable-libcodec2 --enable-libdav1d --enable-libflite --enable-libfontconfig --enable-libfreetype --enable-libfribidi --enable-libgme --enable-libgsm --enable-libjack --enable-libmp3lame --enable-libmysofa --enable-libopenjpeg --enable-libopenmpt --enable-libopus --enable-libpulse --enable-librabbitmq --enable-librubberband --enable-libshine --enable-libsnappy --enable-libsoxr --enable-libspeex --enable-libsrt --enable-libssh --enable-libtheora --enable-libtwolame --enable-libvidstab --enable-libvorbis --enable-libvpx --enable-libwebp --enable-libx265 --enable-libxml2 --enable-libxvid --enable-libzimg --enable-libzmq --enable-libzvbi --enable-lv2 --enable-omx --enable-openal --enable-opencl --enable-opengl --enable-sdl2 --enable-pocketsphinx --enable-librsvg --enable-libmfx --enable-libdc1394 --enable-libdrm --enable-libiec61883 --enable-chromaprint --enable-frei0r --enable-libx264 --enable-shared\n",
            "  libavutil      56. 70.100 / 56. 70.100\n",
            "  libavcodec     58.134.100 / 58.134.100\n",
            "  libavformat    58. 76.100 / 58. 76.100\n",
            "  libavdevice    58. 13.100 / 58. 13.100\n",
            "  libavfilter     7.110.100 /  7.110.100\n",
            "  libswscale      5.  9.100 /  5.  9.100\n",
            "  libswresample   3.  9.100 /  3.  9.100\n",
            "  libpostproc    55.  9.100 / 55.  9.100\n",
            "Input #0, matroska,webm, from 'audio.wav':\n",
            "  Metadata:\n",
            "    encoder         : Chrome\n",
            "  Duration: N/A, start: 0.000000, bitrate: N/A\n",
            "  Stream #0:0(eng): Audio: opus, 48000 Hz, mono, fltp (default)\n",
            "File 'output.wav' already exists. Overwrite? [y/N] y\n",
            "Stream mapping:\n",
            "  Stream #0:0 -> #0:0 (opus (native) -> pcm_s16le (native))\n",
            "Press [q] to stop, [?] for help\n",
            "Output #0, wav, to 'output.wav':\n",
            "  Metadata:\n",
            "    ISFT            : Lavf58.76.100\n",
            "  Stream #0:0(eng): Audio: pcm_s16le ([1][0][0][0] / 0x0001), 16000 Hz, mono, s16, 256 kb/s (default)\n",
            "    Metadata:\n",
            "      encoder         : Lavc58.134.100 pcm_s16le\n",
            "size=      94kB time=00:00:02.99 bitrate= 256.3kbits/s speed= 261x    \n",
            "video:0kB audio:94kB subtitle:0kB other streams:0kB global headers:0kB muxing overhead: 0.081250%\n"
          ]
        }
      ]
    },
    {
      "cell_type": "code",
      "source": [
        "comando = get_audio('/content/output.wav')"
      ],
      "metadata": {
        "id": "VPZwi_oqttlb"
      },
      "execution_count": 45,
      "outputs": []
    },
    {
      "cell_type": "code",
      "source": [
        "import webbrowser\n",
        "\n",
        "def respond(text):\n",
        "    print(\"Text from audio: \" + text)\n",
        "    if 'youtube' in text:\n",
        "        print('Opening Youtube')\n",
        "        webbrowser.open('https://www.youtube.com')\n",
        "    else:\n",
        "        webbrowser.open('https://www.google.com')"
      ],
      "metadata": {
        "id": "NB-VUVr6xaoj"
      },
      "execution_count": 51,
      "outputs": []
    },
    {
      "cell_type": "code",
      "source": [
        "respond(comando)"
      ],
      "metadata": {
        "colab": {
          "base_uri": "https://localhost:8080/"
        },
        "id": "aVbXCvT_xpGo",
        "outputId": "7959ba0b-ac9d-4c58-e812-363f009f5841"
      },
      "execution_count": 52,
      "outputs": [
        {
          "output_type": "stream",
          "name": "stdout",
          "text": [
            "Text from audio: abra o youtube\n",
            "Opening Youtube\n"
          ]
        }
      ]
    }
  ]
}